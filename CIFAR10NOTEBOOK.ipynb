{
 "cells": [
  {
   "cell_type": "code",
   "execution_count": 68,
   "id": "e31454d0",
   "metadata": {},
   "outputs": [],
   "source": [
    "#libs\n",
    "import tensorflow as tf\n",
    "from tensorflow import keras\n",
    "from keras.models import Sequential\n",
    "from keras.layers import Dense, Flatten, Conv2D, MaxPooling2D, Dropout\n",
    "from tensorflow.keras import layers\n",
    "from tensorflow.keras.utils import to_categorical\n",
    "import numpy as np\n",
    "import matplotlib.pyplot as plt"
   ]
  },
  {
   "cell_type": "code",
   "execution_count": 69,
   "id": "9dbff852",
   "metadata": {},
   "outputs": [],
   "source": [
    "plt.style.use('fivethirtyeight')"
   ]
  },
  {
   "cell_type": "code",
   "execution_count": 70,
   "id": "4bfe073d",
   "metadata": {},
   "outputs": [],
   "source": [
    "#load the data from WAD\n",
    "from tensorflow.keras.datasets import cifar10\n",
    "(x_train, y_train), (x_test, y_test) = cifar10.load_data()"
   ]
  },
  {
   "cell_type": "code",
   "execution_count": 71,
   "id": "a3869023",
   "metadata": {},
   "outputs": [],
   "source": [
    "#getting the classifications, since cifar10 provides a clean dataset this is ez\n",
    "classification = [ 'airplane', 'automobile', 'bird', 'cat', 'deer', 'dog', 'frog', 'horse', 'ship', 'truck']\n"
   ]
  },
  {
   "cell_type": "code",
   "execution_count": 72,
   "id": "dc225be8",
   "metadata": {},
   "outputs": [],
   "source": [
    "#Turning labels into a set of 10 numbers to input them into the neural network\\\n",
    "y_train_one_hot = to_categorical(y_train)\n",
    "y_test_one_hot = to_categorical(y_test)"
   ]
  },
  {
   "cell_type": "code",
   "execution_count": 73,
   "id": "99123db3",
   "metadata": {},
   "outputs": [],
   "source": [
    "#normalize the pixels to be in a range between 0 and 1\n",
    "x_train = x_train / 255\n",
    "y_train = y_train / 255"
   ]
  },
  {
   "cell_type": "code",
   "execution_count": 74,
   "id": "0b7da1e3",
   "metadata": {},
   "outputs": [],
   "source": [
    "#creating the model architeture, so ez\n",
    "model = Sequential()\n",
    "\n",
    "#Add the first layer\n",
    "model.add( Conv2D(32, (5,5), activation = 'relu', input_shape= (32,32,3)) )\n",
    "\n",
    "#2nd layer, pooling layer\n",
    "model.add( MaxPooling2D(pool_size = (2,2) ) )\n",
    "\n",
    "#another covultion layer\n",
    "model.add( Conv2D(32, (5,5), activation = 'relu') )\n",
    "                  \n",
    "#double pooling layer\n",
    "model.add( MaxPooling2D(pool_size = (2,2) ) )   \n",
    "\n",
    "#flattening layer\n",
    "model.add(Flatten())\n",
    "\n",
    "\n",
    "#add a layer with 1000 neurons\n",
    "model.add(Dense(1000, activation='relu'))\n",
    "\n",
    "#add a droput layer\n",
    "model.add(Dropout(0.5))\n",
    "\n",
    "#add a layer with 500 neurons\n",
    "model.add(Dense(500, activation='relu'))\n",
    "\n",
    "#add a droput layer\n",
    "model.add(Dropout(0.5))\n",
    "\n",
    "#add a layer with 250neurons\n",
    "model.add(Dense(250, activation='relu'))\n",
    "\n",
    "#a layer with 10 softmax neurons\n",
    "model.add(Dense(10, activation='softmax'))"
   ]
  },
  {
   "cell_type": "code",
   "execution_count": 75,
   "id": "7a8d12c2",
   "metadata": {},
   "outputs": [],
   "source": [
    "#compile\n",
    "model.compile(loss = 'categorical_crossentropy',\n",
    "             optimizer = 'adam',\n",
    "             metrics = ['accuracy'])"
   ]
  },
  {
   "cell_type": "code",
   "execution_count": 83,
   "id": "20b95488",
   "metadata": {},
   "outputs": [
    {
     "name": "stdout",
     "output_type": "stream",
     "text": [
      "Epoch 1/20\n",
      "157/157 [==============================] - 19s 122ms/step - loss: 0.4685 - accuracy: 0.8322 - val_loss: 0.9965 - val_accuracy: 0.6898\n",
      "Epoch 2/20\n",
      "157/157 [==============================] - 20s 129ms/step - loss: 0.4514 - accuracy: 0.8410 - val_loss: 0.9699 - val_accuracy: 0.7067\n",
      "Epoch 3/20\n",
      "157/157 [==============================] - 20s 127ms/step - loss: 0.4307 - accuracy: 0.8454 - val_loss: 0.9826 - val_accuracy: 0.7011\n",
      "Epoch 4/20\n",
      "157/157 [==============================] - 20s 124ms/step - loss: 0.4111 - accuracy: 0.8547 - val_loss: 1.0012 - val_accuracy: 0.7012\n",
      "Epoch 5/20\n",
      "157/157 [==============================] - 20s 128ms/step - loss: 0.3820 - accuracy: 0.8648 - val_loss: 1.0611 - val_accuracy: 0.7004\n",
      "Epoch 6/20\n",
      "157/157 [==============================] - 20s 126ms/step - loss: 0.3762 - accuracy: 0.8659 - val_loss: 1.0311 - val_accuracy: 0.7045\n",
      "Epoch 7/20\n",
      "157/157 [==============================] - 20s 127ms/step - loss: 0.3590 - accuracy: 0.8727 - val_loss: 1.0800 - val_accuracy: 0.6879\n",
      "Epoch 8/20\n",
      "157/157 [==============================] - 20s 126ms/step - loss: 0.3609 - accuracy: 0.8723 - val_loss: 1.0370 - val_accuracy: 0.7059\n",
      "Epoch 9/20\n",
      "157/157 [==============================] - 20s 126ms/step - loss: 0.3301 - accuracy: 0.8810 - val_loss: 1.1483 - val_accuracy: 0.6903\n",
      "Epoch 10/20\n",
      "157/157 [==============================] - 20s 127ms/step - loss: 0.3167 - accuracy: 0.8876 - val_loss: 1.1057 - val_accuracy: 0.6983\n",
      "Epoch 11/20\n",
      "157/157 [==============================] - 20s 129ms/step - loss: 0.2985 - accuracy: 0.8947 - val_loss: 1.1062 - val_accuracy: 0.7009\n",
      "Epoch 12/20\n",
      "157/157 [==============================] - 20s 128ms/step - loss: 0.2982 - accuracy: 0.8939 - val_loss: 1.0999 - val_accuracy: 0.6991\n",
      "Epoch 13/20\n",
      "157/157 [==============================] - 20s 126ms/step - loss: 0.2924 - accuracy: 0.8963 - val_loss: 1.1812 - val_accuracy: 0.6854\n",
      "Epoch 14/20\n",
      "157/157 [==============================] - 20s 126ms/step - loss: 0.2871 - accuracy: 0.8994 - val_loss: 1.1235 - val_accuracy: 0.7003\n",
      "Epoch 15/20\n",
      "157/157 [==============================] - 20s 130ms/step - loss: 0.2653 - accuracy: 0.9071 - val_loss: 1.2019 - val_accuracy: 0.6943\n",
      "Epoch 16/20\n",
      "157/157 [==============================] - 20s 126ms/step - loss: 0.2681 - accuracy: 0.9057 - val_loss: 1.1610 - val_accuracy: 0.6964\n",
      "Epoch 17/20\n",
      "157/157 [==============================] - 20s 126ms/step - loss: 0.2726 - accuracy: 0.9036 - val_loss: 1.1543 - val_accuracy: 0.7015\n",
      "Epoch 18/20\n",
      "157/157 [==============================] - 20s 128ms/step - loss: 0.2462 - accuracy: 0.9149 - val_loss: 1.1680 - val_accuracy: 0.6938\n",
      "Epoch 19/20\n",
      "157/157 [==============================] - 20s 130ms/step - loss: 0.2510 - accuracy: 0.9122 - val_loss: 1.1590 - val_accuracy: 0.6969\n",
      "Epoch 20/20\n",
      "157/157 [==============================] - 20s 127ms/step - loss: 0.2373 - accuracy: 0.9167 - val_loss: 1.2202 - val_accuracy: 0.6997\n"
     ]
    }
   ],
   "source": [
    "#rocky mode\n",
    "hist = model.fit(x_train, y_train_one_hot,\n",
    "                 batch_size=256,\n",
    "                 epochs = 20,\n",
    "                 validation_split = 0.2)"
   ]
  },
  {
   "cell_type": "code",
   "execution_count": 85,
   "id": "d91f44dd",
   "metadata": {},
   "outputs": [
    {
     "name": "stdout",
     "output_type": "stream",
     "text": [
      "313/313 [==============================] - 2s 6ms/step - loss: 349.9090 - accuracy: 0.5390\n"
     ]
    },
    {
     "data": {
      "text/plain": [
       "0.5389999747276306"
      ]
     },
     "execution_count": 85,
     "metadata": {},
     "output_type": "execute_result"
    }
   ],
   "source": [
    "#eval\n",
    "model.evaluate(x_test, y_test_one_hot)[1]"
   ]
  },
  {
   "cell_type": "code",
   "execution_count": null,
   "id": "f101f1ff",
   "metadata": {},
   "outputs": [],
   "source": []
  },
  {
   "cell_type": "code",
   "execution_count": null,
   "id": "23c37156",
   "metadata": {},
   "outputs": [],
   "source": []
  }
 ],
 "metadata": {
  "kernelspec": {
   "display_name": "Python 3",
   "language": "python",
   "name": "python3"
  },
  "language_info": {
   "codemirror_mode": {
    "name": "ipython",
    "version": 3
   },
   "file_extension": ".py",
   "mimetype": "text/x-python",
   "name": "python",
   "nbconvert_exporter": "python",
   "pygments_lexer": "ipython3",
   "version": "3.8.11"
  }
 },
 "nbformat": 4,
 "nbformat_minor": 5
}
